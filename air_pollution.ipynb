{
  "nbformat": 4,
  "nbformat_minor": 0,
  "metadata": {
    "colab": {
      "provenance": []
    },
    "kernelspec": {
      "name": "python3",
      "display_name": "Python 3"
    },
    "language_info": {
      "name": "python"
    }
  },
  "cells": [
    {
      "cell_type": "markdown",
      "source": [
        "Load package"
      ],
      "metadata": {
        "id": "cUlnsWZRzOwL"
      }
    },
    {
      "cell_type": "code",
      "source": [
        "import pandas as pd\n",
        "from sklearn.model_selection import train_test_split\n",
        "from sklearn.preprocessing import StandardScaler\n",
        "from sklearn.ensemble import RandomForestRegressor\n",
        "from sklearn.metrics import mean_squared_error, r2_score\n",
        "import matplotlib.pyplot as plt\n",
        "import numpy as np\n",
        "from sklearn.model_selection import GridSearchCV"
      ],
      "metadata": {
        "id": "LmLd2rArzV7w"
      },
      "execution_count": 1,
      "outputs": []
    },
    {
      "cell_type": "markdown",
      "source": [
        "Load the data"
      ],
      "metadata": {
        "id": "kVj-vt-JzvPx"
      }
    },
    {
      "cell_type": "code",
      "source": [
        "data = pd.read_csv('air_quality_data.csv')"
      ],
      "metadata": {
        "id": "sViyWSkJzaCV"
      },
      "execution_count": null,
      "outputs": []
    },
    {
      "cell_type": "markdown",
      "source": [
        "Handle missing values if any"
      ],
      "metadata": {
        "id": "guPws0E20TFl"
      }
    },
    {
      "cell_type": "code",
      "source": [
        "data.fillna(method='ffill', inplace=True)"
      ],
      "metadata": {
        "id": "B5dtLN320aK_"
      },
      "execution_count": null,
      "outputs": []
    },
    {
      "cell_type": "markdown",
      "source": [
        "Convert date and time to datetime object"
      ],
      "metadata": {
        "id": "fHHZYDv60hV1"
      }
    },
    {
      "cell_type": "code",
      "source": [
        "data['DateTime'] = pd.to_datetime(data['Date'] + ' ' + data['Time'])\n",
        "data.set_index('DateTime', inplace=True)\n",
        "data.drop(['Date', 'Time'], axis=1, inplace=True)"
      ],
      "metadata": {
        "id": "L4SGJvrn0myS"
      },
      "execution_count": null,
      "outputs": []
    },
    {
      "cell_type": "markdown",
      "source": [
        "Extract features and target variables"
      ],
      "metadata": {
        "id": "jHUyDuPN0spq"
      }
    },
    {
      "cell_type": "code",
      "source": [
        "features = data.drop(['PM2.5'], axis=1)  # Assume we're predicting PM2.5\n",
        "target = data['PM2.5']"
      ],
      "metadata": {
        "id": "GVtBdwZM0xSc"
      },
      "execution_count": null,
      "outputs": []
    },
    {
      "cell_type": "markdown",
      "source": [
        "Split the data"
      ],
      "metadata": {
        "id": "deQY4IR503Vw"
      }
    },
    {
      "cell_type": "code",
      "source": [
        "X_train, X_test, y_train, y_test = train_test_split(features, target, test_size=0.2, random_state=42)"
      ],
      "metadata": {
        "id": "RS6TK00-07jV"
      },
      "execution_count": null,
      "outputs": []
    },
    {
      "cell_type": "markdown",
      "source": [
        "Normalize the data"
      ],
      "metadata": {
        "id": "d4oMTihJ1Bq9"
      }
    },
    {
      "cell_type": "code",
      "source": [
        "scaler = StandardScaler()\n",
        "X_train = scaler.fit_transform(X_train)\n",
        "X_test = scaler.transform(X_test)"
      ],
      "metadata": {
        "id": "mmPTsEvf1GPS"
      },
      "execution_count": null,
      "outputs": []
    },
    {
      "cell_type": "markdown",
      "source": [
        "Initialize the model"
      ],
      "metadata": {
        "id": "VokJ51xo1Mrq"
      }
    },
    {
      "cell_type": "code",
      "source": [
        "rf_model = RandomForestRegressor(n_estimators=100, random_state=42)"
      ],
      "metadata": {
        "id": "YqvjMe5z1SEW"
      },
      "execution_count": null,
      "outputs": []
    },
    {
      "cell_type": "markdown",
      "source": [
        "Train the model"
      ],
      "metadata": {
        "id": "rbpys3BD1Xml"
      }
    },
    {
      "cell_type": "code",
      "source": [
        "rf_model.fit(X_train, y_train)"
      ],
      "metadata": {
        "id": "z3uh9rLV1cUT"
      },
      "execution_count": null,
      "outputs": []
    },
    {
      "cell_type": "markdown",
      "source": [
        "Make predictions"
      ],
      "metadata": {
        "id": "8XwEa-_W1iLM"
      }
    },
    {
      "cell_type": "code",
      "source": [
        "y_pred = rf_model.predict(X_test)"
      ],
      "metadata": {
        "id": "fd7EfvFg1nJS"
      },
      "execution_count": null,
      "outputs": []
    },
    {
      "cell_type": "markdown",
      "source": [
        "Evaluate the model"
      ],
      "metadata": {
        "id": "WdRtBBcF1sEh"
      }
    },
    {
      "cell_type": "code",
      "source": [
        "mse = mean_squared_error(y_test, y_pred)\n",
        "r2 = r2_score(y_test, y_pred)\n",
        "\n",
        "print(f'Mean Squared Error: {mse}')\n",
        "print(f'R-squared: {r2}')"
      ],
      "metadata": {
        "id": "wHJieP1f1wvR"
      },
      "execution_count": null,
      "outputs": []
    },
    {
      "cell_type": "markdown",
      "source": [
        "Define categorization function"
      ],
      "metadata": {
        "id": "9rGvVcGO17G1"
      }
    },
    {
      "cell_type": "code",
      "source": [
        "def categorize_pm25(pm25_value):\n",
        "    if pm25_value <= 12.0:\n",
        "        return 'Good'\n",
        "    elif pm25_value <= 35.4:\n",
        "        return 'Moderate'\n",
        "    elif pm25_value <= 55.4:\n",
        "        return 'Unhealthy for Sensitive Groups'\n",
        "    elif pm25_value <= 150.4:\n",
        "        return 'Unhealthy'\n",
        "    elif pm25_value <= 250.4:\n",
        "        return 'Very Unhealthy'\n",
        "    else:\n",
        "        return 'Hazardous'"
      ],
      "metadata": {
        "id": "YNuWKY9H2BPA"
      },
      "execution_count": null,
      "outputs": []
    },
    {
      "cell_type": "markdown",
      "source": [
        "Apply categorization to predictions"
      ],
      "metadata": {
        "id": "pD02INaq2HII"
      }
    },
    {
      "cell_type": "code",
      "source": [
        "predicted_levels = [categorize_pm25(pm25) for pm25 in y_pred]"
      ],
      "metadata": {
        "id": "WIfYgS3C2PZm"
      },
      "execution_count": null,
      "outputs": []
    },
    {
      "cell_type": "markdown",
      "source": [
        "Add predictions and levels to a DataFrame for better visualization"
      ],
      "metadata": {
        "id": "m3vVa1FB2bCb"
      }
    },
    {
      "cell_type": "code",
      "source": [
        "results = pd.DataFrame({\n",
        "    'Predicted PM2.5': y_pred,\n",
        "    'Air Quality Level': predicted_levels\n",
        "})\n",
        "\n",
        "print(results.head())"
      ],
      "metadata": {
        "id": "vwkMSWcL2cGo"
      },
      "execution_count": null,
      "outputs": []
    },
    {
      "cell_type": "markdown",
      "source": [
        "Get feature importance"
      ],
      "metadata": {
        "id": "5DtOrMIs3QTN"
      }
    },
    {
      "cell_type": "code",
      "source": [
        "importance = rf_model.feature_importances_"
      ],
      "metadata": {
        "id": "evj1bb403Vkg"
      },
      "execution_count": null,
      "outputs": []
    },
    {
      "cell_type": "markdown",
      "source": [
        "Plot feature importance"
      ],
      "metadata": {
        "id": "-KohUIel3ifN"
      }
    },
    {
      "cell_type": "code",
      "source": [
        "features = data.columns.drop('PM2.5')\n",
        "indices = np.argsort(importance)[::-1]\n",
        "\n",
        "plt.figure(figsize=(12, 6))\n",
        "plt.title(\"Feature Importance\")\n",
        "plt.bar(range(X_train.shape[1]), importance[indices], align=\"center\")\n",
        "plt.xticks(range(X_train.shape[1]), [features[i] for i in indices], rotation=90)\n",
        "plt.show()"
      ],
      "metadata": {
        "id": "U0GKd_B93jxf"
      },
      "execution_count": null,
      "outputs": []
    },
    {
      "cell_type": "markdown",
      "source": [
        "Define parameter grid"
      ],
      "metadata": {
        "id": "ZARe9fJW5uIQ"
      }
    },
    {
      "cell_type": "code",
      "source": [
        "param_grid = {\n",
        "    'n_estimators': [50, 100, 200],\n",
        "    'max_depth': [10, 20, None],\n",
        "    'min_samples_split': [2, 5, 10],\n",
        "    'min_samples_leaf': [1, 2, 4]\n",
        "}"
      ],
      "metadata": {
        "id": "Bt7ESBMH51r_"
      },
      "execution_count": null,
      "outputs": []
    },
    {
      "cell_type": "markdown",
      "source": [
        "Initialize GridSearchCV"
      ],
      "metadata": {
        "id": "aCEmIDRL5859"
      }
    },
    {
      "cell_type": "code",
      "source": [
        "grid_search = GridSearchCV(estimator=rf_model, param_grid=param_grid, cv=3, n_jobs=-1, verbose=2)"
      ],
      "metadata": {
        "id": "hwLDc5937BTV"
      },
      "execution_count": null,
      "outputs": []
    },
    {
      "cell_type": "markdown",
      "source": [
        "Fit GridSearchCV"
      ],
      "metadata": {
        "id": "rZlXtLPY7Lnf"
      }
    },
    {
      "cell_type": "code",
      "source": [
        "grid_search.fit(X_train, y_train)"
      ],
      "metadata": {
        "id": "nXYZ2kiH7R0f"
      },
      "execution_count": null,
      "outputs": []
    },
    {
      "cell_type": "markdown",
      "source": [
        "Best parameters and best score"
      ],
      "metadata": {
        "id": "Zi5pP5aX7XPy"
      }
    },
    {
      "cell_type": "code",
      "source": [
        "best_params = grid_search.best_params_\n",
        "best_score = grid_search.best_score_\n",
        "\n",
        "print(f'Best Parameters: {best_params}')\n",
        "print(f'Best CV Score: {best_score}')"
      ],
      "metadata": {
        "id": "TFEG5s4v7c8M"
      },
      "execution_count": null,
      "outputs": []
    },
    {
      "cell_type": "markdown",
      "source": [
        "Use best parameters to predict"
      ],
      "metadata": {
        "id": "Gj2ZDMSY7mLH"
      }
    },
    {
      "cell_type": "code",
      "source": [
        "best_rf_model = grid_search.best_estimator_\n",
        "y_pred = best_rf_model.predict(X_test)"
      ],
      "metadata": {
        "id": "xvtOrm4V7v8e"
      },
      "execution_count": null,
      "outputs": []
    },
    {
      "cell_type": "markdown",
      "source": [
        "Evaluate the model with best parameters"
      ],
      "metadata": {
        "id": "yoUXJP2G71uz"
      }
    },
    {
      "cell_type": "code",
      "source": [
        "mse = mean_squared_error(y_test, y_pred)\n",
        "r2 = r2_score(y_test, y_pred)\n",
        "\n",
        "print(f'Mean Squared Error with best parameters: {mse}')\n",
        "print(f'R-squared with best parameters: {r2}')"
      ],
      "metadata": {
        "id": "fVhrNP0m79S5"
      },
      "execution_count": null,
      "outputs": []
    },
    {
      "cell_type": "markdown",
      "source": [
        "Apply categorization to predictions with best parameters"
      ],
      "metadata": {
        "id": "7SuHRp5q8Djg"
      }
    },
    {
      "cell_type": "code",
      "source": [
        "predicted_levels = [categorize_pm25(pm25) for pm25 in y_pred]"
      ],
      "metadata": {
        "id": "0V9ziCsN8Irb"
      },
      "execution_count": null,
      "outputs": []
    },
    {
      "cell_type": "markdown",
      "source": [
        "Add predictions and levels to a DataFrame for better visualization"
      ],
      "metadata": {
        "id": "HW8mWQLh8Qow"
      }
    },
    {
      "cell_type": "code",
      "source": [
        "results = pd.DataFrame({\n",
        "    'Predicted PM2.5': y_pred,\n",
        "    'Air Quality Level': predicted_levels\n",
        "})\n",
        "\n",
        "print(results.head())"
      ],
      "metadata": {
        "id": "-NiAaNjH8SYF"
      },
      "execution_count": null,
      "outputs": []
    }
  ]
}